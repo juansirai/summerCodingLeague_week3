{
 "cells": [
  {
   "cell_type": "markdown",
   "metadata": {},
   "source": [
    "# Summer Coding League 💻\n",
    "## Week 3 - Data Science\n",
    "### *Predicting subscribtions*\n",
    "\n",
    "------------------------------------"
   ]
  },
  {
   "cell_type": "markdown",
   "metadata": {},
   "source": [
    "<img src='https://www.forbes.com/advisor/wp-content/uploads/2019/08/gettyimages-1050881944-612x612-e1565718161876.jpg'>"
   ]
  },
  {
   "cell_type": "markdown",
   "metadata": {},
   "source": [
    "## 📌BACKGROUND\n",
    "The data is related with direct marketing campaigns of a Portuguese banking institution. The marketing campaigns were based on phone calls. Often, more than one contact to the same client was required, in order to access if the product (bank term deposit) would be (or not) subscribed.\n",
    "\n",
    "## 📌TASK\n",
    "Create a predictive algorithm (Machine Learning, NOT ANN) to predict if a client will subscribe to a term deposit (variable y)\n",
    "\n",
    "## 📌DATASETS\n",
    "*Input variables: bank client data:*\n",
    "\n",
    "* 1 - age (numeric)\n",
    "* 2 - job : type of job (categorical: \"admin.\",\"unknown\",\"unemployed\",\"management\",\"housemaid\",\"entrepreneur\",\"student\", \"blue-collar\",\"self-employed\",\"retired\",\"technician\",\"services\")\n",
    "* 3 - marital : marital status (categorical: \"married\",\"divorced\",\"single\"; note: \"divorced\" means divorced or widowed)\n",
    "* 4 - education (categorical: \"unknown\",\"secondary\",\"primary\",\"tertiary\")\n",
    "* 5 - default: has credit in default? (binary: \"yes\",\"no\")\n",
    "* 6 - balance: average yearly balance, in euros (numeric)\n",
    "* 7 - housing: has housing loan? (binary: \"yes\",\"no\")\n",
    "* 8 - loan: has personal loan? (binary: \"yes\",\"no\") related with the last contact of the current campaign:\n",
    "* 9 - contact: contact communication type (categorical: \"unknown\",\"telephone\",\"cellular\")\n",
    "* 10 - day: last contact day of the month (numeric)\n",
    "* 11 - month: last contact month of year (categorical: \"jan\", \"feb\", \"mar\", ..., \"nov\", \"dec\")\n",
    "* 12 - duration: last contact duration, in seconds (numeric) other attributes:\n",
    "* 13 - campaign: number of contacts performed during this campaign and for this client (numeric, includes last contact)\n",
    "* 14 - pdays: number of days that passed by after the client was last contacted from a previous campaign (numeric, -1 means client was not previously contacted)\n",
    "* 15 - previous: number of contacts performed before this campaign and for this client (numeric)\n",
    "* 16 - poutcome: outcome of the previous marketing campaign (categorical: \"unknown\",\"other\",\"failure\",\"success\")\n",
    "Output variable (desired target):\n",
    "* 17 - y - has the client subscribed a term deposit? (binary: \"yes\",\"no\")"
   ]
  },
  {
   "cell_type": "markdown",
   "metadata": {},
   "source": [
    "## 📌Libraries"
   ]
  },
  {
   "cell_type": "code",
   "execution_count": 1,
   "metadata": {},
   "outputs": [],
   "source": [
    "import pandas as pd\n",
    "import numpy as np\n",
    "import matplotlib.pyplot as plt\n",
    "import seaborn as sns\n",
    "import matplotlib.gridspec as gridspec\n",
    "from sklearn.preprocessing import StandardScaler, OneHotEncoder\n",
    "from sklearn.linear_model import LogisticRegression, LogisticRegressionCV\n",
    "from sklearn.model_selection import train_test_split\n",
    "from sklearn.metrics import accuracy_score,plot_confusion_matrix,roc_auc_score, classification_report, confusion_matrix, precision_recall_curve, auc\n"
   ]
  },
  {
   "cell_type": "markdown",
   "metadata": {},
   "source": [
    "## 📌Importing Data"
   ]
  },
  {
   "cell_type": "code",
   "execution_count": 2,
   "metadata": {},
   "outputs": [],
   "source": [
    "df = pd.read_csv('train.csv')\n",
    "X_test = pd.read_csv('x_test.csv')"
   ]
  },
  {
   "cell_type": "code",
   "execution_count": 3,
   "metadata": {},
   "outputs": [
    {
     "data": {
      "text/html": [
       "<div>\n",
       "<style scoped>\n",
       "    .dataframe tbody tr th:only-of-type {\n",
       "        vertical-align: middle;\n",
       "    }\n",
       "\n",
       "    .dataframe tbody tr th {\n",
       "        vertical-align: top;\n",
       "    }\n",
       "\n",
       "    .dataframe thead th {\n",
       "        text-align: right;\n",
       "    }\n",
       "</style>\n",
       "<table border=\"1\" class=\"dataframe\">\n",
       "  <thead>\n",
       "    <tr style=\"text-align: right;\">\n",
       "      <th></th>\n",
       "      <th>age</th>\n",
       "      <th>job</th>\n",
       "      <th>marital</th>\n",
       "      <th>education</th>\n",
       "      <th>default</th>\n",
       "      <th>balance</th>\n",
       "      <th>housing</th>\n",
       "      <th>loan</th>\n",
       "      <th>contact</th>\n",
       "      <th>day</th>\n",
       "      <th>month</th>\n",
       "      <th>duration</th>\n",
       "      <th>campaign</th>\n",
       "      <th>pdays</th>\n",
       "      <th>previous</th>\n",
       "      <th>poutcome</th>\n",
       "      <th>y</th>\n",
       "    </tr>\n",
       "  </thead>\n",
       "  <tbody>\n",
       "    <tr>\n",
       "      <th>0</th>\n",
       "      <td>58</td>\n",
       "      <td>management</td>\n",
       "      <td>married</td>\n",
       "      <td>tertiary</td>\n",
       "      <td>no</td>\n",
       "      <td>2143</td>\n",
       "      <td>yes</td>\n",
       "      <td>no</td>\n",
       "      <td>unknown</td>\n",
       "      <td>5</td>\n",
       "      <td>may</td>\n",
       "      <td>261</td>\n",
       "      <td>1</td>\n",
       "      <td>-1</td>\n",
       "      <td>0</td>\n",
       "      <td>unknown</td>\n",
       "      <td>no</td>\n",
       "    </tr>\n",
       "    <tr>\n",
       "      <th>1</th>\n",
       "      <td>44</td>\n",
       "      <td>technician</td>\n",
       "      <td>single</td>\n",
       "      <td>secondary</td>\n",
       "      <td>no</td>\n",
       "      <td>29</td>\n",
       "      <td>yes</td>\n",
       "      <td>no</td>\n",
       "      <td>unknown</td>\n",
       "      <td>5</td>\n",
       "      <td>may</td>\n",
       "      <td>151</td>\n",
       "      <td>1</td>\n",
       "      <td>-1</td>\n",
       "      <td>0</td>\n",
       "      <td>unknown</td>\n",
       "      <td>no</td>\n",
       "    </tr>\n",
       "    <tr>\n",
       "      <th>2</th>\n",
       "      <td>33</td>\n",
       "      <td>entrepreneur</td>\n",
       "      <td>married</td>\n",
       "      <td>secondary</td>\n",
       "      <td>no</td>\n",
       "      <td>2</td>\n",
       "      <td>yes</td>\n",
       "      <td>yes</td>\n",
       "      <td>unknown</td>\n",
       "      <td>5</td>\n",
       "      <td>may</td>\n",
       "      <td>76</td>\n",
       "      <td>1</td>\n",
       "      <td>-1</td>\n",
       "      <td>0</td>\n",
       "      <td>unknown</td>\n",
       "      <td>no</td>\n",
       "    </tr>\n",
       "  </tbody>\n",
       "</table>\n",
       "</div>"
      ],
      "text/plain": [
       "   age           job  marital  education default  balance housing loan  \\\n",
       "0   58    management  married   tertiary      no     2143     yes   no   \n",
       "1   44    technician   single  secondary      no       29     yes   no   \n",
       "2   33  entrepreneur  married  secondary      no        2     yes  yes   \n",
       "\n",
       "   contact  day month  duration  campaign  pdays  previous poutcome   y  \n",
       "0  unknown    5   may       261         1     -1         0  unknown  no  \n",
       "1  unknown    5   may       151         1     -1         0  unknown  no  \n",
       "2  unknown    5   may        76         1     -1         0  unknown  no  "
      ]
     },
     "metadata": {},
     "output_type": "display_data"
    },
    {
     "name": "stdout",
     "output_type": "stream",
     "text": [
      "<class 'pandas.core.frame.DataFrame'>\n",
      "RangeIndex: 31430 entries, 0 to 31429\n",
      "Data columns (total 17 columns):\n",
      " #   Column     Non-Null Count  Dtype \n",
      "---  ------     --------------  ----- \n",
      " 0   age        31430 non-null  int64 \n",
      " 1   job        31430 non-null  object\n",
      " 2   marital    31430 non-null  object\n",
      " 3   education  31430 non-null  object\n",
      " 4   default    31430 non-null  object\n",
      " 5   balance    31430 non-null  int64 \n",
      " 6   housing    31430 non-null  object\n",
      " 7   loan       31430 non-null  object\n",
      " 8   contact    31430 non-null  object\n",
      " 9   day        31430 non-null  int64 \n",
      " 10  month      31430 non-null  object\n",
      " 11  duration   31430 non-null  int64 \n",
      " 12  campaign   31430 non-null  int64 \n",
      " 13  pdays      31430 non-null  int64 \n",
      " 14  previous   31430 non-null  int64 \n",
      " 15  poutcome   31430 non-null  object\n",
      " 16  y          31430 non-null  object\n",
      "dtypes: int64(7), object(10)\n",
      "memory usage: 4.1+ MB\n"
     ]
    },
    {
     "data": {
      "text/plain": [
       "None"
      ]
     },
     "metadata": {},
     "output_type": "display_data"
    }
   ],
   "source": [
    "# Showing the first rows of our Dataset\n",
    "display(df.head(3))\n",
    "display(df.info())"
   ]
  },
  {
   "cell_type": "code",
   "execution_count": 4,
   "metadata": {},
   "outputs": [
    {
     "data": {
      "text/html": [
       "<div>\n",
       "<style scoped>\n",
       "    .dataframe tbody tr th:only-of-type {\n",
       "        vertical-align: middle;\n",
       "    }\n",
       "\n",
       "    .dataframe tbody tr th {\n",
       "        vertical-align: top;\n",
       "    }\n",
       "\n",
       "    .dataframe thead th {\n",
       "        text-align: right;\n",
       "    }\n",
       "</style>\n",
       "<table border=\"1\" class=\"dataframe\">\n",
       "  <thead>\n",
       "    <tr style=\"text-align: right;\">\n",
       "      <th></th>\n",
       "      <th>count</th>\n",
       "      <th>mean</th>\n",
       "      <th>std</th>\n",
       "      <th>min</th>\n",
       "      <th>25%</th>\n",
       "      <th>50%</th>\n",
       "      <th>75%</th>\n",
       "      <th>max</th>\n",
       "    </tr>\n",
       "  </thead>\n",
       "  <tbody>\n",
       "    <tr>\n",
       "      <th>age</th>\n",
       "      <td>31430.0</td>\n",
       "      <td>41.114445</td>\n",
       "      <td>9.589084</td>\n",
       "      <td>19.0</td>\n",
       "      <td>33.0</td>\n",
       "      <td>40.0</td>\n",
       "      <td>49.0</td>\n",
       "      <td>94.0</td>\n",
       "    </tr>\n",
       "    <tr>\n",
       "      <th>balance</th>\n",
       "      <td>31430.0</td>\n",
       "      <td>1290.419408</td>\n",
       "      <td>2962.444111</td>\n",
       "      <td>-8019.0</td>\n",
       "      <td>46.0</td>\n",
       "      <td>396.0</td>\n",
       "      <td>1325.0</td>\n",
       "      <td>98417.0</td>\n",
       "    </tr>\n",
       "    <tr>\n",
       "      <th>day</th>\n",
       "      <td>31430.0</td>\n",
       "      <td>16.667992</td>\n",
       "      <td>8.540192</td>\n",
       "      <td>1.0</td>\n",
       "      <td>9.0</td>\n",
       "      <td>18.0</td>\n",
       "      <td>23.0</td>\n",
       "      <td>31.0</td>\n",
       "    </tr>\n",
       "    <tr>\n",
       "      <th>duration</th>\n",
       "      <td>31430.0</td>\n",
       "      <td>251.730640</td>\n",
       "      <td>261.707203</td>\n",
       "      <td>0.0</td>\n",
       "      <td>98.0</td>\n",
       "      <td>170.0</td>\n",
       "      <td>305.0</td>\n",
       "      <td>4918.0</td>\n",
       "    </tr>\n",
       "    <tr>\n",
       "      <th>campaign</th>\n",
       "      <td>31430.0</td>\n",
       "      <td>3.070029</td>\n",
       "      <td>3.518305</td>\n",
       "      <td>1.0</td>\n",
       "      <td>1.0</td>\n",
       "      <td>2.0</td>\n",
       "      <td>3.0</td>\n",
       "      <td>63.0</td>\n",
       "    </tr>\n",
       "    <tr>\n",
       "      <th>pdays</th>\n",
       "      <td>31430.0</td>\n",
       "      <td>10.354693</td>\n",
       "      <td>46.910901</td>\n",
       "      <td>-1.0</td>\n",
       "      <td>-1.0</td>\n",
       "      <td>-1.0</td>\n",
       "      <td>-1.0</td>\n",
       "      <td>294.0</td>\n",
       "    </tr>\n",
       "    <tr>\n",
       "      <th>previous</th>\n",
       "      <td>31430.0</td>\n",
       "      <td>0.202227</td>\n",
       "      <td>1.940676</td>\n",
       "      <td>0.0</td>\n",
       "      <td>0.0</td>\n",
       "      <td>0.0</td>\n",
       "      <td>0.0</td>\n",
       "      <td>275.0</td>\n",
       "    </tr>\n",
       "  </tbody>\n",
       "</table>\n",
       "</div>"
      ],
      "text/plain": [
       "            count         mean          std     min   25%    50%     75%  \\\n",
       "age       31430.0    41.114445     9.589084    19.0  33.0   40.0    49.0   \n",
       "balance   31430.0  1290.419408  2962.444111 -8019.0  46.0  396.0  1325.0   \n",
       "day       31430.0    16.667992     8.540192     1.0   9.0   18.0    23.0   \n",
       "duration  31430.0   251.730640   261.707203     0.0  98.0  170.0   305.0   \n",
       "campaign  31430.0     3.070029     3.518305     1.0   1.0    2.0     3.0   \n",
       "pdays     31430.0    10.354693    46.910901    -1.0  -1.0   -1.0    -1.0   \n",
       "previous  31430.0     0.202227     1.940676     0.0   0.0    0.0     0.0   \n",
       "\n",
       "              max  \n",
       "age          94.0  \n",
       "balance   98417.0  \n",
       "day          31.0  \n",
       "duration   4918.0  \n",
       "campaign     63.0  \n",
       "pdays       294.0  \n",
       "previous    275.0  "
      ]
     },
     "execution_count": 4,
     "metadata": {},
     "output_type": "execute_result"
    }
   ],
   "source": [
    "# An statistical approach of our numerical features\n",
    "df.describe().transpose()"
   ]
  },
  {
   "cell_type": "markdown",
   "metadata": {},
   "source": [
    "As we could see, we don't have null values in our data (so we don't have to deal with filling methodologies) and the data types seem to be correct"
   ]
  },
  {
   "cell_type": "code",
   "execution_count": 5,
   "metadata": {},
   "outputs": [
    {
     "data": {
      "text/plain": [
       "-1      29449\n",
       " 182       41\n",
       " 189       39\n",
       " 183       38\n",
       " 2         35\n",
       "        ...  \n",
       " 146        1\n",
       " 86         1\n",
       " 277        1\n",
       " 21         1\n",
       " 24         1\n",
       "Name: pdays, Length: 222, dtype: int64"
      ]
     },
     "execution_count": 5,
     "metadata": {},
     "output_type": "execute_result"
    }
   ],
   "source": [
    "df['pdays'].value_counts()"
   ]
  },
  {
   "cell_type": "markdown",
   "metadata": {},
   "source": [
    "💡 Looking into 'pDays' values, we notice that the value -1 represents absence of a previous call. Due we have the same information in the feature \"previous\", I decided to change the -1 value directly to 0, to avoid possible false signals to our algorithm"
   ]
  },
  {
   "cell_type": "code",
   "execution_count": 6,
   "metadata": {},
   "outputs": [],
   "source": [
    "df['pdays'] =  df['pdays'].apply(lambda x: x if x!=-1 else 0)"
   ]
  },
  {
   "cell_type": "code",
   "execution_count": 7,
   "metadata": {},
   "outputs": [
    {
     "data": {
      "text/plain": [
       "0      29449\n",
       "182       41\n",
       "189       39\n",
       "183       38\n",
       "2         35\n",
       "       ...  \n",
       "282        1\n",
       "29         1\n",
       "27         1\n",
       "219        1\n",
       "146        1\n",
       "Name: pdays, Length: 222, dtype: int64"
      ]
     },
     "execution_count": 7,
     "metadata": {},
     "output_type": "execute_result"
    }
   ],
   "source": [
    "df['pdays'].value_counts()"
   ]
  },
  {
   "cell_type": "markdown",
   "metadata": {},
   "source": [
    "## 📌A brief approach to our data"
   ]
  },
  {
   "cell_type": "markdown",
   "metadata": {},
   "source": [
    "### 💡*Chasing Outliers*"
   ]
  },
  {
   "cell_type": "markdown",
   "metadata": {},
   "source": [
    "#### A) Balance"
   ]
  },
  {
   "cell_type": "code",
   "execution_count": 8,
   "metadata": {},
   "outputs": [
    {
     "data": {
      "image/png": "[encoded data removed]",
      "text/plain": [
       "<Figure size 1440x360 with 2 Axes>"
      ]
     },
     "metadata": {
      "needs_background": "light"
     },
     "output_type": "display_data"
    }
   ],
   "source": [
    "import warnings\n",
    "warnings.filterwarnings('ignore')\n",
    "plt.figure(figsize=(20,5))\n",
    "plt.suptitle('Distribution of Balance Before clean', size=20)\n",
    "plt.subplot(1,2,1)\n",
    "sns.distplot(df['balance'],color='r')\n",
    "plt.subplot(1,2,2)\n",
    "sns.boxplot(df['balance'],color='r')\n",
    "plt.show()"
   ]
  },
  {
   "cell_type": "code",
   "execution_count": 9,
   "metadata": {},
   "outputs": [],
   "source": [
    "percentile25 = df['balance'].quantile(0.25)\n",
    "percentile75 = df['balance'].quantile(0.75)\n",
    "iqr = percentile75 - percentile25"
   ]
  },
  {
   "cell_type": "code",
   "execution_count": 10,
   "metadata": {},
   "outputs": [],
   "source": [
    "upper_limit = percentile75 + 1.5 * iqr\n",
    "lower_limit = percentile25 - 1.5 * iqr"
   ]
  },
  {
   "cell_type": "code",
   "execution_count": 11,
   "metadata": {},
   "outputs": [
    {
     "name": "stdout",
     "output_type": "stream",
     "text": [
      "Upper Limit outliers:  3396\n",
      "Lower Limit outliers:  17\n"
     ]
    }
   ],
   "source": [
    "print('Upper Limit outliers: ',df[df['balance'] > upper_limit].shape[0])\n",
    "print('Lower Limit outliers: ',df[df['balance'] < lower_limit].shape[0])"
   ]
  },
  {
   "cell_type": "code",
   "execution_count": 12,
   "metadata": {},
   "outputs": [],
   "source": [
    "new_df = df.loc[(df['balance'] < upper_limit) & (df['balance'] > lower_limit)]"
   ]
  },
  {
   "cell_type": "code",
   "execution_count": 13,
   "metadata": {},
   "outputs": [
    {
     "data": {
      "image/png": "[encoded data removed]",
      "text/plain": [
       "<Figure size 1440x360 with 2 Axes>"
      ]
     },
     "metadata": {
      "needs_background": "light"
     },
     "output_type": "display_data"
    }
   ],
   "source": [
    "plt.figure(figsize=(20,5))\n",
    "plt.subplot(1,2,1)\n",
    "plt.suptitle('Distribution of Balance After clean', size=20)\n",
    "sns.distplot(new_df['balance'],color='g')\n",
    "plt.subplot(1,2,2)\n",
    "sns.boxplot(new_df['balance'],color='g')\n",
    "plt.show()"
   ]
  },
  {
   "cell_type": "markdown",
   "metadata": {},
   "source": [
    "#### B) Duration"
   ]
  },
  {
   "cell_type": "code",
   "execution_count": 14,
   "metadata": {},
   "outputs": [
    {
     "data": {
      "image/png": "[encoded data removed]",
      "text/plain": [
       "<Figure size 1440x360 with 2 Axes>"
      ]
     },
     "metadata": {
      "needs_background": "light"
     },
     "output_type": "display_data"
    }
   ],
   "source": [
    "import warnings\n",
    "warnings.filterwarnings('ignore')\n",
    "plt.figure(figsize=(20,5))\n",
    "plt.suptitle('Distribution of Duration Before clean', size=20)\n",
    "plt.subplot(1,2,1)\n",
    "sns.distplot(new_df['duration'],color='r')\n",
    "plt.subplot(1,2,2)\n",
    "sns.boxplot(new_df['duration'],color='r')\n",
    "plt.show()"
   ]
  },
  {
   "cell_type": "code",
   "execution_count": 15,
   "metadata": {},
   "outputs": [],
   "source": [
    "percentile25_d = df['duration'].quantile(0.25)\n",
    "percentile75_d = df['duration'].quantile(0.75)\n",
    "iqr_d = percentile75_d - percentile25_d"
   ]
  },
  {
   "cell_type": "code",
   "execution_count": 16,
   "metadata": {},
   "outputs": [
    {
     "name": "stdout",
     "output_type": "stream",
     "text": [
      "Upper Limit outliers:  2453\n",
      "Lower Limit outliers:  0\n"
     ]
    }
   ],
   "source": [
    "upper_limit_d = percentile75_d + 1.5 * iqr_d\n",
    "lower_limit_d = percentile25_d - 1.5 * iqr_d\n",
    "print('Upper Limit outliers: ',df[df['duration'] > upper_limit_d].shape[0])\n",
    "print('Lower Limit outliers: ',df[df['duration'] < lower_limit_d].shape[0])"
   ]
  },
  {
   "cell_type": "code",
   "execution_count": 17,
   "metadata": {},
   "outputs": [],
   "source": [
    "new_df_d = new_df.loc[(new_df['duration'] < upper_limit_d) & (new_df['duration'] > lower_limit_d)]"
   ]
  },
  {
   "cell_type": "code",
   "execution_count": 18,
   "metadata": {},
   "outputs": [
    {
     "data": {
      "image/png": "[encoded data removed]",
      "text/plain": [
       "<Figure size 1440x360 with 2 Axes>"
      ]
     },
     "metadata": {
      "needs_background": "light"
     },
     "output_type": "display_data"
    }
   ],
   "source": [
    "import warnings\n",
    "warnings.filterwarnings('ignore')\n",
    "plt.figure(figsize=(20,5))\n",
    "plt.suptitle('Distribution of Duration After clean', size=20)\n",
    "plt.subplot(1,2,1)\n",
    "sns.distplot(new_df_d['duration'],color='g')\n",
    "plt.subplot(1,2,2)\n",
    "sns.boxplot(new_df_d['duration'],color='g')\n",
    "plt.show()"
   ]
  },
  {
   "cell_type": "markdown",
   "metadata": {},
   "source": [
    "#### C) Previous Contact"
   ]
  },
  {
   "cell_type": "markdown",
   "metadata": {},
   "source": [
    "Showing some statistics about \"previous contact\" feature"
   ]
  },
  {
   "cell_type": "code",
   "execution_count": 19,
   "metadata": {},
   "outputs": [
    {
     "data": {
      "text/html": [
       "<div>\n",
       "<style scoped>\n",
       "    .dataframe tbody tr th:only-of-type {\n",
       "        vertical-align: middle;\n",
       "    }\n",
       "\n",
       "    .dataframe tbody tr th {\n",
       "        vertical-align: top;\n",
       "    }\n",
       "\n",
       "    .dataframe thead th {\n",
       "        text-align: right;\n",
       "    }\n",
       "</style>\n",
       "<table border=\"1\" class=\"dataframe\">\n",
       "  <thead>\n",
       "    <tr style=\"text-align: right;\">\n",
       "      <th></th>\n",
       "      <th>count</th>\n",
       "      <th>mean</th>\n",
       "      <th>std</th>\n",
       "      <th>min</th>\n",
       "      <th>25%</th>\n",
       "      <th>50%</th>\n",
       "      <th>75%</th>\n",
       "      <th>max</th>\n",
       "    </tr>\n",
       "  </thead>\n",
       "  <tbody>\n",
       "    <tr>\n",
       "      <th>previous</th>\n",
       "      <td>25885.0</td>\n",
       "      <td>0.207688</td>\n",
       "      <td>2.088961</td>\n",
       "      <td>0.0</td>\n",
       "      <td>0.0</td>\n",
       "      <td>0.0</td>\n",
       "      <td>0.0</td>\n",
       "      <td>275.0</td>\n",
       "    </tr>\n",
       "  </tbody>\n",
       "</table>\n",
       "</div>"
      ],
      "text/plain": [
       "            count      mean       std  min  25%  50%  75%    max\n",
       "previous  25885.0  0.207688  2.088961  0.0  0.0  0.0  0.0  275.0"
      ]
     },
     "execution_count": 19,
     "metadata": {},
     "output_type": "execute_result"
    }
   ],
   "source": [
    "new_df_d[['previous']].describe().transpose()"
   ]
  },
  {
   "cell_type": "markdown",
   "metadata": {},
   "source": [
    "As we can se in the table, having a mean of 0.2 previous contacts, our max value is 275. That´s only can be explained by outlier observations"
   ]
  },
  {
   "cell_type": "code",
   "execution_count": 20,
   "metadata": {},
   "outputs": [],
   "source": [
    "limit = new_df_d.previous.mean() + 3*new_df_d.previous.std()"
   ]
  },
  {
   "cell_type": "code",
   "execution_count": 21,
   "metadata": {},
   "outputs": [
    {
     "name": "stdout",
     "output_type": "stream",
     "text": [
      "Percentaje of observations above the limit: 0.6 %\n"
     ]
    }
   ],
   "source": [
    "print(f\"Percentaje of observations above the limit: {(((new_df_d['previous']>limit).sum() )/ new_df_d.shape[0] * 100).round(2)} %\")"
   ]
  },
  {
   "cell_type": "code",
   "execution_count": 22,
   "metadata": {},
   "outputs": [
    {
     "data": {
      "image/png": "[encoded data removed]",
      "text/plain": [
       "<Figure size 1440x360 with 1 Axes>"
      ]
     },
     "metadata": {
      "needs_background": "light"
     },
     "output_type": "display_data"
    }
   ],
   "source": [
    "plt.figure(figsize=(20,5));\n",
    "sns.countplot(new_df_d.previous);\n",
    "plt.title('Has a previous contact?', size=20);"
   ]
  },
  {
   "cell_type": "code",
   "execution_count": 23,
   "metadata": {},
   "outputs": [],
   "source": [
    "new_df_p = new_df_d.loc[new_df_d['previous']<limit]"
   ]
  },
  {
   "cell_type": "code",
   "execution_count": 24,
   "metadata": {},
   "outputs": [
    {
     "data": {
      "image/png": "[encoded data removed]",
      "text/plain": [
       "<Figure size 1440x360 with 1 Axes>"
      ]
     },
     "metadata": {
      "needs_background": "light"
     },
     "output_type": "display_data"
    }
   ],
   "source": [
    "plt.figure(figsize=(20,5));\n",
    "sns.countplot(new_df_p.previous, color='g');\n",
    "plt.title('Has a previous contact?', size=20);"
   ]
  },
  {
   "cell_type": "markdown",
   "metadata": {},
   "source": [
    "### 💡*A brief approach to Data Distribution*"
   ]
  },
  {
   "cell_type": "code",
   "execution_count": 25,
   "metadata": {},
   "outputs": [
    {
     "data": {
      "image/png": "[encoded data removed]",
      "text/plain": [
       "<Figure size 1440x720 with 3 Axes>"
      ]
     },
     "metadata": {
      "needs_background": "light"
     },
     "output_type": "display_data"
    }
   ],
   "source": [
    "fig = plt.figure(1)\n",
    "plt.suptitle('Social Features and Subscriptorss',fontsize=20)\n",
    "# set up subplot grid\n",
    "gridspec.GridSpec(2,2)\n",
    "\n",
    "# Small subplot\n",
    "plt.subplot2grid((2,2), (0,0), colspan=2, rowspan=1)\n",
    "plt.locator_params(axis='x', nbins=5)\n",
    "plt.locator_params(axis='y', nbins=5)\n",
    "plt.title('Age and suscriptors')\n",
    "plt.xlabel('Age')\n",
    "plt.ylabel('count')\n",
    "sns.histplot(x='age',hue='y',data=new_df_p,palette='Set2', multiple='stack')\n",
    "\n",
    "\n",
    "#Large Plot\n",
    "plt.subplot2grid((2,2), (1,0), colspan=1, rowspan=1)\n",
    "plt.locator_params(axis='x', nbins=5)\n",
    "plt.locator_params(axis='y', nbins=5)\n",
    "plt.title(' Education and suscriptors')\n",
    "plt.xlabel('Education')\n",
    "plt.ylabel('count')\n",
    "sns.countplot(x=new_df_p.education,hue=new_df_p.y,palette='Set2')\n",
    "\n",
    "plt.subplot2grid((2,2), (1,1), colspan=1, rowspan=1)\n",
    "plt.locator_params(axis='x', nbins=5)\n",
    "plt.locator_params(axis='y', nbins=5)\n",
    "plt.title('# JOB')\n",
    "plt.xlabel('Job')\n",
    "plt.ylabel('count')\n",
    "sns.histplot(x=new_df_p.job,hue=new_df_p.y,palette='Set2', multiple=\"stack\",binwidth=0.1)\n",
    "plt.xticks(rotation=45)\n",
    "\n",
    "#Ajusting plot\n",
    "fig.set_size_inches(w=20,h=10)\n",
    "plt.subplots_adjust(hspace=.5)\n",
    "plt.show()"
   ]
  },
  {
   "cell_type": "code",
   "execution_count": 26,
   "metadata": {},
   "outputs": [
    {
     "data": {
      "image/png": "[encoded data removed]",
      "text/plain": [
       "<Figure size 1440x720 with 4 Axes>"
      ]
     },
     "metadata": {
      "needs_background": "light"
     },
     "output_type": "display_data"
    }
   ],
   "source": [
    "fig = plt.figure(1)\n",
    "plt.suptitle('Economical Features and Subscriptorss',fontsize=20)\n",
    "# set up subplot grid\n",
    "\n",
    "\n",
    "gridspec.GridSpec(2,2)\n",
    "\n",
    "# Small subplot\n",
    "plt.subplot2grid((2,2), (0,0), colspan=1, rowspan=1)\n",
    "plt.locator_params(axis='x', nbins=5)\n",
    "plt.locator_params(axis='y', nbins=5)\n",
    "plt.title('Was in default?')\n",
    "plt.xlabel('Default')\n",
    "plt.ylabel('count')\n",
    "sns.histplot(x='default',hue='y',data=new_df_p,palette='Set2', multiple='stack')\n",
    "\n",
    "\n",
    "# Small subplot\n",
    "plt.subplot2grid((2,2), (0,1), colspan=1, rowspan=1)\n",
    "plt.locator_params(axis='x', nbins=5)\n",
    "plt.locator_params(axis='y', nbins=5)\n",
    "plt.title('Housing')\n",
    "plt.xlabel('Housing')\n",
    "plt.ylabel('count')\n",
    "sns.histplot(x='housing',hue='y',data=new_df_p,palette='Set2', multiple='stack')\n",
    "\n",
    "#Large Plot\n",
    "plt.subplot2grid((2,2), (1,0), colspan=1, rowspan=1)\n",
    "plt.locator_params(axis='x', nbins=5)\n",
    "plt.locator_params(axis='y', nbins=5)\n",
    "plt.title(' Balance and suscriptors')\n",
    "plt.xlabel('Subscriptor')\n",
    "plt.ylabel('Balance')\n",
    "sns.histplot(x=new_df_p.balance,hue='y',data = new_df_p.loc[(new_df_p['balance']<(new_df_p.balance.mean())) & (new_df_p['balance']>-100)],palette='Set2', multiple='stack')\n",
    "\n",
    "plt.subplot2grid((2,2), (1,1), colspan=1, rowspan=1)\n",
    "plt.locator_params(axis='x', nbins=5)\n",
    "plt.locator_params(axis='y', nbins=5)\n",
    "plt.title('# LOAN')\n",
    "plt.xlabel('Loan')\n",
    "plt.ylabel('count')\n",
    "sns.histplot(x=new_df_p.loan,hue=new_df_p.y,palette='Set2', multiple=\"stack\",binwidth=0.1)\n",
    "plt.xticks(rotation=45)\n",
    "\n",
    "#Ajusting plot\n",
    "fig.set_size_inches(w=20,h=10)\n",
    "plt.subplots_adjust(hspace=.5)\n",
    "plt.show()"
   ]
  },
  {
   "cell_type": "code",
   "execution_count": 27,
   "metadata": {},
   "outputs": [
    {
     "data": {
      "image/png": "[encoded data removed]",
      "text/plain": [
       "<Figure size 1440x720 with 4 Axes>"
      ]
     },
     "metadata": {
      "needs_background": "light"
     },
     "output_type": "display_data"
    }
   ],
   "source": [
    "fig = plt.figure(1)\n",
    "plt.suptitle('Campaign Information',fontsize=20)\n",
    "# set up subplot grid\n",
    "\n",
    "\n",
    "gridspec.GridSpec(2,2)\n",
    "\n",
    "# Small subplot\n",
    "plt.subplot2grid((2,2), (0,0), colspan=1, rowspan=1)\n",
    "plt.locator_params(axis='x', nbins=5)\n",
    "plt.locator_params(axis='y', nbins=5)\n",
    "plt.title('Suscriptors by month')\n",
    "plt.xlabel('Month')\n",
    "plt.ylabel('count')\n",
    "sns.countplot(y=new_df_p.month, hue=new_df_p.y, dodge=False, order=['jan', 'feb', 'mar','apr','may','jun','jul','aug','sep', 'oct', 'nov', 'dec'])\n",
    "\n",
    "\n",
    "# Small subplot\n",
    "plt.subplot2grid((2,2), (0,1), colspan=1, rowspan=1)\n",
    "plt.locator_params(axis='x', nbins=5)\n",
    "plt.locator_params(axis='y', nbins=5)\n",
    "plt.title('Suscriptors by day')\n",
    "plt.xlabel('# of day')\n",
    "plt.ylabel('count')\n",
    "sns.countplot(new_df_p.day, hue=new_df_p.y, dodge=False)\n",
    "\n",
    "#Large Plot\n",
    "plt.subplot2grid((2,2), (1,0), colspan=1, rowspan=1)\n",
    "plt.locator_params(axis='x', nbins=5)\n",
    "plt.locator_params(axis='y', nbins=5)\n",
    "plt.title(' Call duration and suscriptos')\n",
    "plt.xlabel('Duration')\n",
    "plt.ylabel('Suscript')\n",
    "sns.boxplot(x='duration', data=new_df_p, y='y')\n",
    "\n",
    "plt.subplot2grid((2,2), (1,1), colspan=1, rowspan=1)\n",
    "plt.locator_params(axis='x', nbins=5)\n",
    "plt.locator_params(axis='y', nbins=5)\n",
    "plt.title('# Previous Call')\n",
    "plt.xlabel('Count')\n",
    "plt.ylabel('# of previous calls')\n",
    "sns.countplot(y='previous', hue='y', data=new_df_p, dodge=False);\n",
    "plt.xticks(rotation=45)\n",
    "\n",
    "#Ajusting plot\n",
    "fig.set_size_inches(w=20,h=10)\n",
    "plt.subplots_adjust(hspace=.5)\n",
    "plt.show()"
   ]
  },
  {
   "cell_type": "markdown",
   "metadata": {},
   "source": [
    "---------------------"
   ]
  },
  {
   "cell_type": "markdown",
   "metadata": {},
   "source": [
    "## 📌Model Development"
   ]
  },
  {
   "cell_type": "markdown",
   "metadata": {},
   "source": [
    "#### 💡Droping Correlated features"
   ]
  },
  {
   "cell_type": "code",
   "execution_count": 28,
   "metadata": {},
   "outputs": [
    {
     "data": {
      "image/png": "[encoded data removed]",
      "text/plain": [
       "<Figure size 720x504 with 2 Axes>"
      ]
     },
     "metadata": {
      "needs_background": "light"
     },
     "output_type": "display_data"
    }
   ],
   "source": [
    "plt.figure(figsize=(10,7))\n",
    "sns.heatmap(new_df_p.corr(), annot=True, cmap='RdGy_r', vmin=-1, vmax=1);\n",
    "plt.title('Correlation between numerical features', size=20);"
   ]
  },
  {
   "cell_type": "markdown",
   "metadata": {},
   "source": [
    "Due we have high correlation between **pDays** and **Previous** features, we will only left one.\n",
    "As we could see in the previous graph, it's notoriuos how many suscriptors were gotten in the first contact, so it could be intersting use that feature in our model, instead of Pdays."
   ]
  },
  {
   "cell_type": "code",
   "execution_count": 29,
   "metadata": {},
   "outputs": [],
   "source": [
    "final_df = new_df_p.drop(columns=['pdays'])"
   ]
  },
  {
   "cell_type": "code",
   "execution_count": 30,
   "metadata": {},
   "outputs": [
    {
     "data": {
      "text/plain": [
       "Index(['age', 'job', 'marital', 'education', 'default', 'balance', 'housing',\n",
       "       'loan', 'contact', 'day', 'month', 'duration', 'campaign', 'previous',\n",
       "       'poutcome', 'y'],\n",
       "      dtype='object')"
      ]
     },
     "execution_count": 30,
     "metadata": {},
     "output_type": "execute_result"
    }
   ],
   "source": [
    "final_df.columns"
   ]
  },
  {
   "cell_type": "markdown",
   "metadata": {},
   "source": [
    "#### 💡Transforming the target into numerical (binary)"
   ]
  },
  {
   "cell_type": "code",
   "execution_count": 31,
   "metadata": {},
   "outputs": [],
   "source": [
    "final_df['y'] = final_df.y.apply(lambda x: 1 if x=='yes' else 0)"
   ]
  },
  {
   "cell_type": "code",
   "execution_count": 32,
   "metadata": {},
   "outputs": [
    {
     "data": {
      "text/plain": [
       "0    25135\n",
       "1      595\n",
       "Name: y, dtype: int64"
      ]
     },
     "execution_count": 32,
     "metadata": {},
     "output_type": "execute_result"
    }
   ],
   "source": [
    "final_df.y.value_counts()"
   ]
  },
  {
   "cell_type": "markdown",
   "metadata": {},
   "source": [
    "#### 💡Transforming Month name into numerical"
   ]
  },
  {
   "cell_type": "code",
   "execution_count": 33,
   "metadata": {},
   "outputs": [],
   "source": [
    "def monthToNum(shortMonth):\n",
    "    return {\n",
    "            'jan': 1,\n",
    "            'feb': 2,\n",
    "            'mar': 3,\n",
    "            'apr': 4,\n",
    "            'may': 5,\n",
    "            'jun': 6,\n",
    "            'jul': 7,\n",
    "            'aug': 8,\n",
    "            'sep': 9, \n",
    "            'oct': 10,\n",
    "            'nov': 11,\n",
    "            'dec': 12\n",
    "    }[shortMonth]"
   ]
  },
  {
   "cell_type": "code",
   "execution_count": 34,
   "metadata": {},
   "outputs": [],
   "source": [
    "final_df['month']=final_df.month.map(lambda x: monthToNum(x))"
   ]
  },
  {
   "cell_type": "markdown",
   "metadata": {},
   "source": [
    "#### 💡Getting dummies for our categorical features"
   ]
  },
  {
   "cell_type": "code",
   "execution_count": 35,
   "metadata": {},
   "outputs": [],
   "source": [
    "df_dummies = pd.get_dummies(final_df, drop_first=True)"
   ]
  },
  {
   "cell_type": "code",
   "execution_count": 36,
   "metadata": {},
   "outputs": [
    {
     "data": {
      "text/plain": [
       "'Shape of our Dataset: '"
      ]
     },
     "metadata": {},
     "output_type": "display_data"
    },
    {
     "data": {
      "text/plain": [
       "'Rows - Columns'"
      ]
     },
     "metadata": {},
     "output_type": "display_data"
    },
    {
     "data": {
      "text/plain": [
       "(25730, 32)"
      ]
     },
     "metadata": {},
     "output_type": "display_data"
    }
   ],
   "source": [
    "display('Shape of our Dataset: ','Rows - Columns',df_dummies.shape);"
   ]
  },
  {
   "cell_type": "code",
   "execution_count": 37,
   "metadata": {},
   "outputs": [
    {
     "data": {
      "text/plain": [
       "Index(['age', 'balance', 'day', 'month', 'duration', 'campaign', 'previous',\n",
       "       'y', 'job_blue-collar', 'job_entrepreneur', 'job_housemaid',\n",
       "       'job_management', 'job_retired', 'job_self-employed', 'job_services',\n",
       "       'job_student', 'job_technician', 'job_unemployed', 'job_unknown',\n",
       "       'marital_married', 'marital_single', 'education_secondary',\n",
       "       'education_tertiary', 'education_unknown', 'default_yes', 'housing_yes',\n",
       "       'loan_yes', 'contact_telephone', 'contact_unknown', 'poutcome_other',\n",
       "       'poutcome_success', 'poutcome_unknown'],\n",
       "      dtype='object')"
      ]
     },
     "execution_count": 37,
     "metadata": {},
     "output_type": "execute_result"
    }
   ],
   "source": [
    "df_dummies.columns"
   ]
  },
  {
   "cell_type": "markdown",
   "metadata": {},
   "source": [
    "#### 💡Train - Validation Split"
   ]
  },
  {
   "cell_type": "markdown",
   "metadata": {},
   "source": [
    "<img src='https://www.machinecurve.com/wp-content/uploads/2020/11/feed-2.jpg'>"
   ]
  },
  {
   "cell_type": "markdown",
   "metadata": {},
   "source": [
    "In machine learning, it is logical that several hours or days are spent trying to optimize our algorithm: select features, transform variables, optimize hyperparameters.\n",
    "At some point, we will arrive at our final model, which estimates the goal as best as possible. But what if our algorithm learned so well about provided data that it cannot generalize to new data?\n",
    "\n",
    "**This could be a sign of overfitting.**\n",
    "\n",
    "Trying to figure that out, we will divide our known data into two different sets: training and test *(in this particular case, we will call it \"validation set\", because we already have the test data set in another document)*\n",
    "With the training set up, we will try to run our model to get the best score. Then we will take the X characteristics in the test set, just to predict and then compare with the actual target."
   ]
  },
  {
   "cell_type": "code",
   "execution_count": 38,
   "metadata": {},
   "outputs": [],
   "source": [
    "X_train, X_val, y_train, y_val\\\n",
    "                            = train_test_split(df_dummies.drop(['y'], axis=1),\\\n",
    "                                    df_dummies['y'],\\\n",
    "                                    stratify = df_dummies['y'],\\\n",
    "                                    random_state=0)"
   ]
  },
  {
   "cell_type": "code",
   "execution_count": 39,
   "metadata": {},
   "outputs": [
    {
     "data": {
      "text/plain": [
       "'X train'"
      ]
     },
     "metadata": {},
     "output_type": "display_data"
    },
    {
     "data": {
      "text/plain": [
       "(19297, 31)"
      ]
     },
     "metadata": {},
     "output_type": "display_data"
    },
    {
     "data": {
      "text/plain": [
       "'X Val'"
      ]
     },
     "metadata": {},
     "output_type": "display_data"
    },
    {
     "data": {
      "text/plain": [
       "(6433, 31)"
      ]
     },
     "metadata": {},
     "output_type": "display_data"
    },
    {
     "data": {
      "text/plain": [
       "'Y train'"
      ]
     },
     "metadata": {},
     "output_type": "display_data"
    },
    {
     "data": {
      "text/plain": [
       "(19297,)"
      ]
     },
     "metadata": {},
     "output_type": "display_data"
    },
    {
     "data": {
      "text/plain": [
       "'Y Val'"
      ]
     },
     "metadata": {},
     "output_type": "display_data"
    },
    {
     "data": {
      "text/plain": [
       "(6433,)"
      ]
     },
     "metadata": {},
     "output_type": "display_data"
    }
   ],
   "source": [
    "display('X train', X_train.shape,'X Val', X_val.shape,'Y train', y_train.shape,'Y Val', y_val.shape)"
   ]
  },
  {
   "cell_type": "markdown",
   "metadata": {},
   "source": [
    "#### 💡Dealing with unbalanced classes"
   ]
  },
  {
   "cell_type": "code",
   "execution_count": 40,
   "metadata": {},
   "outputs": [
    {
     "name": "stdout",
     "output_type": "stream",
     "text": [
      "training set:\n",
      "0    18851\n",
      "1      446\n",
      "Name: y, dtype: int64\n",
      "\n",
      "validation set:\n",
      "0    6284\n",
      "1     149\n",
      "Name: y, dtype: int64\n"
     ]
    }
   ],
   "source": [
    "print('training set:')\n",
    "print(y_train.value_counts())\n",
    "\n",
    "print('\\nvalidation set:')\n",
    "print(y_val.value_counts())"
   ]
  },
  {
   "cell_type": "code",
   "execution_count": 41,
   "metadata": {},
   "outputs": [
    {
     "name": "stdout",
     "output_type": "stream",
     "text": [
      "training set:\n",
      "1    18851\n",
      "0    18851\n",
      "Name: y, dtype: int64\n",
      "\n",
      "val set:\n",
      "0    6284\n",
      "1     149\n",
      "Name: y, dtype: int64\n"
     ]
    }
   ],
   "source": [
    "from imblearn.over_sampling import RandomOverSampler\n",
    "\n",
    "oversampler=RandomOverSampler(sampling_strategy='minority');\n",
    "\n",
    "X_train_os,y_train_os=oversampler.fit_resample(X_train,y_train);\n",
    "\n",
    "print('training set:')\n",
    "print(y_train_os.value_counts())\n",
    "\n",
    "print('\\nval set:')\n",
    "print(y_val.value_counts())"
   ]
  },
  {
   "cell_type": "markdown",
   "metadata": {},
   "source": [
    "#### 💡Logistic Regression"
   ]
  },
  {
   "cell_type": "markdown",
   "metadata": {},
   "source": [
    "We will use a logistic regression model, optimizing the hyperparam by cross validation"
   ]
  },
  {
   "cell_type": "code",
   "execution_count": 42,
   "metadata": {},
   "outputs": [
    {
     "name": "stdout",
     "output_type": "stream",
     "text": [
      "              precision    recall  f1-score   support\n",
      "\n",
      "           0       0.98      1.00      0.99      6284\n",
      "           1       0.20      0.01      0.01       149\n",
      "\n",
      "    accuracy                           0.98      6433\n",
      "   macro avg       0.59      0.50      0.50      6433\n",
      "weighted avg       0.96      0.98      0.97      6433\n",
      "\n",
      "Area under ROC curve: 0.8787\n",
      "Area under Precision-Recall curve: 0.1527\n"
     ]
    },
    {
     "data": {
      "image/png": "[encoded data removed]",
      "text/plain": [
       "<Figure size 432x288 with 2 Axes>"
      ]
     },
     "metadata": {
      "needs_background": "light"
     },
     "output_type": "display_data"
    }
   ],
   "source": [
    "scaler=StandardScaler()  \n",
    "    \n",
    "X_train_sc=scaler.fit_transform(X_train) # standarizing data    \n",
    "X_val_sc=scaler.transform(X_val)\n",
    "        \n",
    "model=LogisticRegressionCV(scoring='f1')\n",
    "    \n",
    "model.fit(X_train_sc,y_train)\n",
    "y_pred=model.predict(X_val_sc)\n",
    "y_proba=model.predict_proba(X_val_sc)\n",
    "    \n",
    "print(classification_report(y_val,y_pred))\n",
    "    \n",
    "print('Area under ROC curve:',np.round(roc_auc_score(y_val,y_proba[:,1]),4))\n",
    "    \n",
    "precision, recall,threshold=precision_recall_curve(y_val,y_proba[:,1]);\n",
    "\n",
    "print('Area under Precision-Recall curve:',np.round(auc(recall,precision),4))\n",
    "\n",
    "plot_confusion_matrix(model,X_val_sc,y_val,cmap='Blues');\n",
    "\n"
   ]
  },
  {
   "cell_type": "markdown",
   "metadata": {},
   "source": [
    "#### 💡Boosting Classifiers"
   ]
  },
  {
   "cell_type": "markdown",
   "metadata": {},
   "source": [
    "We will continue working with our copy of features before the standarization, and after the oversampling technique"
   ]
  },
  {
   "cell_type": "code",
   "execution_count": 43,
   "metadata": {},
   "outputs": [
    {
     "name": "stdout",
     "output_type": "stream",
     "text": [
      "training set:\n",
      "1    18851\n",
      "0    18851\n",
      "Name: y, dtype: int64\n",
      "\n",
      "val set:\n",
      "0    6284\n",
      "1     149\n",
      "Name: y, dtype: int64\n"
     ]
    }
   ],
   "source": [
    "print('training set:')\n",
    "print(y_train_os.value_counts())\n",
    "\n",
    "print('\\nval set:')\n",
    "print(y_val.value_counts())"
   ]
  },
  {
   "cell_type": "code",
   "execution_count": 44,
   "metadata": {},
   "outputs": [],
   "source": [
    "from sklearn.model_selection import cross_val_score, StratifiedKFold\n",
    "cv = StratifiedKFold(n_splits=5, random_state=41, shuffle=True)"
   ]
  },
  {
   "cell_type": "code",
   "execution_count": 45,
   "metadata": {},
   "outputs": [],
   "source": [
    "## We create a function to compare models performance\n",
    "def evaluate_model(model, name, X, y, cv):\n",
    "    s = cross_val_score(model, X, y, cv=cv, n_jobs=-1)\n",
    "    print(\"Performance of {}:\\t{:0.3} ± {:0.3}\".format( \\\n",
    "        name, s.mean().round(3), s.std().round(3)))"
   ]
  },
  {
   "cell_type": "code",
   "execution_count": 46,
   "metadata": {},
   "outputs": [
    {
     "name": "stdout",
     "output_type": "stream",
     "text": [
      "Performance of Árbol de decisión:\t0.99 ± 0.0\n"
     ]
    }
   ],
   "source": [
    "## Base Model\n",
    "\n",
    "from sklearn.tree import DecisionTreeClassifier\n",
    "dt = DecisionTreeClassifier(random_state=1)\n",
    "\n",
    "evaluate_model(dt,\"Árbol de decisión\", X_train_os, y_train_os, cv)"
   ]
  },
  {
   "cell_type": "code",
   "execution_count": 47,
   "metadata": {},
   "outputs": [
    {
     "name": "stdout",
     "output_type": "stream",
     "text": [
      "Performance of AdaBoostClassifier:\t0.991 ± 0.001\n"
     ]
    }
   ],
   "source": [
    "#Testing AdaBoost and Gradient Boost\n",
    "\n",
    "from sklearn.ensemble import AdaBoostClassifier, GradientBoostingClassifier\n",
    "\n",
    "ab = AdaBoostClassifier(base_estimator=dt, n_estimators=500,random_state=1)\n",
    "evaluate_model(ab, \"AdaBoostClassifier\",  X_train_os, y_train_os, cv)"
   ]
  },
  {
   "cell_type": "code",
   "execution_count": 48,
   "metadata": {},
   "outputs": [
    {
     "name": "stdout",
     "output_type": "stream",
     "text": [
      "Performance of GradientBoostingClassifier:\t0.917 ± 0.004\n"
     ]
    }
   ],
   "source": [
    "gb = GradientBoostingClassifier()\n",
    "evaluate_model(gb, \"GradientBoostingClassifier\", X_train_os, y_train_os, cv)"
   ]
  },
  {
   "cell_type": "code",
   "execution_count": 49,
   "metadata": {},
   "outputs": [],
   "source": [
    "# Optimizing hyperparams with gridsearchCv\n",
    "\n",
    "from sklearn.model_selection import GridSearchCV\n",
    "\n",
    "params_ab = {\"n_estimators\": [500,1000],\n",
    "          \"learning_rate\":[0.01, 0.1],\n",
    "        \"base_estimator__max_depth\": [1, 2, 3]}\n",
    "\n",
    "grid_ab = GridSearchCV(AdaBoostClassifier(base_estimator=dt,random_state=1), \n",
    "                       param_grid=params_ab, cv=cv, verbose=1, n_jobs=3)"
   ]
  },
  {
   "cell_type": "code",
   "execution_count": 50,
   "metadata": {},
   "outputs": [
    {
     "name": "stdout",
     "output_type": "stream",
     "text": [
      "Fitting 5 folds for each of 12 candidates, totalling 60 fits\n"
     ]
    },
    {
     "name": "stderr",
     "output_type": "stream",
     "text": [
      "[Parallel(n_jobs=3)]: Using backend LokyBackend with 3 concurrent workers.\n",
      "[Parallel(n_jobs=3)]: Done  44 tasks      | elapsed:  9.8min\n",
      "[Parallel(n_jobs=3)]: Done  60 out of  60 | elapsed: 16.4min finished\n"
     ]
    },
    {
     "data": {
      "text/plain": [
       "GridSearchCV(cv=StratifiedKFold(n_splits=5, random_state=41, shuffle=True),\n",
       "             estimator=AdaBoostClassifier(base_estimator=DecisionTreeClassifier(random_state=1),\n",
       "                                          random_state=1),\n",
       "             n_jobs=3,\n",
       "             param_grid={'base_estimator__max_depth': [1, 2, 3],\n",
       "                         'learning_rate': [0.01, 0.1],\n",
       "                         'n_estimators': [500, 1000]},\n",
       "             verbose=1)"
      ]
     },
     "execution_count": 50,
     "metadata": {},
     "output_type": "execute_result"
    }
   ],
   "source": [
    "grid_ab.fit(X_train_os, y_train_os)"
   ]
  },
  {
   "cell_type": "code",
   "execution_count": 51,
   "metadata": {},
   "outputs": [
    {
     "data": {
      "text/plain": [
       "AdaBoostClassifier(base_estimator=DecisionTreeClassifier(max_depth=3,\n",
       "                                                         random_state=1),\n",
       "                   learning_rate=0.1, n_estimators=1000, random_state=1)"
      ]
     },
     "execution_count": 51,
     "metadata": {},
     "output_type": "execute_result"
    }
   ],
   "source": [
    "grid_ab.best_estimator_"
   ]
  },
  {
   "cell_type": "code",
   "execution_count": 52,
   "metadata": {},
   "outputs": [
    {
     "name": "stdout",
     "output_type": "stream",
     "text": [
      "Performance of AdaBoostClassifier + GS:\t0.988 ± 0.001\n"
     ]
    }
   ],
   "source": [
    "evaluate_model(grid_ab.best_estimator_,  \"AdaBoostClassifier + GS\", X_train_os, y_train_os, cv)"
   ]
  },
  {
   "cell_type": "code",
   "execution_count": 53,
   "metadata": {},
   "outputs": [],
   "source": [
    "## Optimizing Gradient Boost with CS\n",
    "\n",
    "params_gb = {'n_estimators':[500, 1000] , \n",
    "             'learning_rate':[0.001, 0.001, 0.1],\n",
    "            'max_depth' : [1, 2, 3, 4]}\n",
    "\n",
    "grid_gb = GridSearchCV(gb, param_grid=params_gb, cv=cv, verbose=1, n_jobs=3)"
   ]
  },
  {
   "cell_type": "code",
   "execution_count": 54,
   "metadata": {},
   "outputs": [
    {
     "name": "stdout",
     "output_type": "stream",
     "text": [
      "Fitting 5 folds for each of 24 candidates, totalling 120 fits\n"
     ]
    },
    {
     "name": "stderr",
     "output_type": "stream",
     "text": [
      "[Parallel(n_jobs=3)]: Using backend LokyBackend with 3 concurrent workers.\n",
      "[Parallel(n_jobs=3)]: Done  44 tasks      | elapsed:  9.3min\n",
      "[Parallel(n_jobs=3)]: Done 120 out of 120 | elapsed: 26.9min finished\n"
     ]
    },
    {
     "data": {
      "text/plain": [
       "GridSearchCV(cv=StratifiedKFold(n_splits=5, random_state=41, shuffle=True),\n",
       "             estimator=GradientBoostingClassifier(), n_jobs=3,\n",
       "             param_grid={'learning_rate': [0.001, 0.001, 0.1],\n",
       "                         'max_depth': [1, 2, 3, 4],\n",
       "                         'n_estimators': [500, 1000]},\n",
       "             verbose=1)"
      ]
     },
     "execution_count": 54,
     "metadata": {},
     "output_type": "execute_result"
    }
   ],
   "source": [
    "grid_gb.fit(X_train_os, y_train_os)"
   ]
  },
  {
   "cell_type": "code",
   "execution_count": 55,
   "metadata": {},
   "outputs": [
    {
     "data": {
      "text/plain": [
       "GradientBoostingClassifier(max_depth=4, n_estimators=1000)"
      ]
     },
     "execution_count": 55,
     "metadata": {},
     "output_type": "execute_result"
    }
   ],
   "source": [
    "grid_gb.best_estimator_"
   ]
  },
  {
   "cell_type": "code",
   "execution_count": 57,
   "metadata": {},
   "outputs": [
    {
     "name": "stdout",
     "output_type": "stream",
     "text": [
      "Performance of GradientBoostingClassifier + GS:\t0.987 ± 0.001\n"
     ]
    }
   ],
   "source": [
    "evaluate_model(grid_gb.best_estimator_, \"GradientBoostingClassifier + GS\", X_train_os, y_train_os, cv)"
   ]
  },
  {
   "cell_type": "markdown",
   "metadata": {},
   "source": [
    "### 📌Comparing models and final decision\n",
    "-----------------------------------------------"
   ]
  },
  {
   "cell_type": "markdown",
   "metadata": {},
   "source": [
    "#### 💡Performance of AdaBoost Clasifier with Grid Search"
   ]
  },
  {
   "cell_type": "code",
   "execution_count": 58,
   "metadata": {},
   "outputs": [
    {
     "name": "stdout",
     "output_type": "stream",
     "text": [
      "              precision    recall  f1-score   support\n",
      "\n",
      "           0       0.98      0.98      0.98      6284\n",
      "           1       0.28      0.36      0.31       149\n",
      "\n",
      "    accuracy                           0.96      6433\n",
      "   macro avg       0.63      0.67      0.65      6433\n",
      "weighted avg       0.97      0.96      0.97      6433\n",
      "\n",
      "Area under ROC curve: 0.8597\n",
      "Area under Precision-Recall curve: 0.2616\n"
     ]
    },
    {
     "data": {
      "image/png": "[encoded data removed]",
      "text/plain": [
       "<Figure size 432x288 with 2 Axes>"
      ]
     },
     "metadata": {
      "needs_background": "light"
     },
     "output_type": "display_data"
    }
   ],
   "source": [
    "model_ab_cv = grid_ab.best_estimator_\n",
    "\n",
    "y_pred_ab=model_ab_cv.predict(X_val)\n",
    "y_proba_ab=model_ab_cv.predict_proba(X_val)\n",
    "    \n",
    "print(classification_report(y_val,y_pred_ab))\n",
    "    \n",
    "print('Area under ROC curve:',np.round(roc_auc_score(y_val,y_proba_ab[:,1]),4))\n",
    "    \n",
    "precision, recall,threshold=precision_recall_curve(y_val,y_proba_ab[:,1]);\n",
    "\n",
    "print('Area under Precision-Recall curve:',np.round(auc(recall,precision),4))\n",
    "\n",
    "plot_confusion_matrix(model_ab_cv,X_val,y_val,cmap='Blues');\n"
   ]
  },
  {
   "cell_type": "markdown",
   "metadata": {},
   "source": [
    "#### 💡Performance of AdaBoost Clasifier without Grid Search"
   ]
  },
  {
   "cell_type": "code",
   "execution_count": 63,
   "metadata": {},
   "outputs": [
    {
     "name": "stdout",
     "output_type": "stream",
     "text": [
      "              precision    recall  f1-score   support\n",
      "\n",
      "           0       0.98      0.98      0.98      6284\n",
      "           1       0.29      0.30      0.29       149\n",
      "\n",
      "    accuracy                           0.97      6433\n",
      "   macro avg       0.64      0.64      0.64      6433\n",
      "weighted avg       0.97      0.97      0.97      6433\n",
      "\n",
      "Area under ROC curve: 0.6421\n",
      "Area under Precision-Recall curve: 0.3024\n"
     ]
    },
    {
     "data": {
      "image/png": "[encoded data removed]",
      "text/plain": [
       "<Figure size 432x288 with 2 Axes>"
      ]
     },
     "metadata": {
      "needs_background": "light"
     },
     "output_type": "display_data"
    }
   ],
   "source": [
    "model_ab_2 = ab.fit(X_train_os, y_train_os)\n",
    "\n",
    "y_pred_ab_2=model_ab_2.predict(X_val)\n",
    "y_proba_ab_2=model_ab_2.predict_proba(X_val)\n",
    "    \n",
    "print(classification_report(y_val,y_pred_ab_2))\n",
    "    \n",
    "print('Area under ROC curve:',np.round(roc_auc_score(y_val,y_proba_ab_2[:,1]),4))\n",
    "    \n",
    "precision, recall,threshold=precision_recall_curve(y_val,y_proba_ab_2[:,1]);\n",
    "\n",
    "print('Area under Precision-Recall curve:',np.round(auc(recall,precision),4))\n",
    "\n",
    "plot_confusion_matrix(model_ab_2,X_val,y_val,cmap='Blues');"
   ]
  },
  {
   "cell_type": "markdown",
   "metadata": {},
   "source": [
    "#### 💡Performance of AdaBoost Clasifier with Grid Search"
   ]
  },
  {
   "cell_type": "code",
   "execution_count": 64,
   "metadata": {},
   "outputs": [
    {
     "name": "stdout",
     "output_type": "stream",
     "text": [
      "              precision    recall  f1-score   support\n",
      "\n",
      "           0       0.99      0.98      0.98      6284\n",
      "           1       0.35      0.47      0.40       149\n",
      "\n",
      "    accuracy                           0.97      6433\n",
      "   macro avg       0.67      0.72      0.69      6433\n",
      "weighted avg       0.97      0.97      0.97      6433\n",
      "\n",
      "Area under ROC curve: 0.9394\n",
      "Area under Precision-Recall curve: 0.4113\n"
     ]
    },
    {
     "data": {
      "image/png": "[encoded data removed]",
      "text/plain": [
       "<Figure size 432x288 with 2 Axes>"
      ]
     },
     "metadata": {
      "needs_background": "light"
     },
     "output_type": "display_data"
    }
   ],
   "source": [
    "model_gb_gs= grid_gb.best_estimator_\n",
    "\n",
    "y_pred_gb_gs=model_gb_gs.predict(X_val)\n",
    "y_proba_gb_gs=model_gb_gs.predict_proba(X_val)\n",
    "    \n",
    "print(classification_report(y_val,y_pred_gb_gs))\n",
    "    \n",
    "print('Area under ROC curve:',np.round(roc_auc_score(y_val,y_proba_gb_gs[:,1]),4))\n",
    "    \n",
    "precision, recall,threshold=precision_recall_curve(y_val,y_proba_gb_gs[:,1]);\n",
    "\n",
    "print('Area under Precision-Recall curve:',np.round(auc(recall,precision),4))\n",
    "\n",
    "plot_confusion_matrix(model_gb_gs,X_val,y_val,cmap='Blues');"
   ]
  },
  {
   "cell_type": "markdown",
   "metadata": {},
   "source": [
    "#### 💡Performance of Gradient Boost Clasifier without Grid Search"
   ]
  },
  {
   "cell_type": "code",
   "execution_count": 65,
   "metadata": {},
   "outputs": [
    {
     "name": "stdout",
     "output_type": "stream",
     "text": [
      "              precision    recall  f1-score   support\n",
      "\n",
      "           0       1.00      0.88      0.93      6284\n",
      "           1       0.15      0.90      0.26       149\n",
      "\n",
      "    accuracy                           0.88      6433\n",
      "   macro avg       0.57      0.89      0.60      6433\n",
      "weighted avg       0.98      0.88      0.92      6433\n",
      "\n",
      "Area under ROC curve: 0.9486\n",
      "Area under Precision-Recall curve: 0.334\n"
     ]
    },
    {
     "data": {
      "image/png": "[encoded data removed]",
      "text/plain": [
       "<Figure size 432x288 with 2 Axes>"
      ]
     },
     "metadata": {
      "needs_background": "light"
     },
     "output_type": "display_data"
    }
   ],
   "source": [
    "model_gb= gb.fit(X_train_os, y_train_os)\n",
    "\n",
    "y_pred_gb=model_gb.predict(X_val)\n",
    "y_proba_gb=model_gb.predict_proba(X_val)\n",
    "    \n",
    "print(classification_report(y_val,y_pred_gb))\n",
    "    \n",
    "print('Area under ROC curve:',np.round(roc_auc_score(y_val,y_proba_gb[:,1]),4))\n",
    "    \n",
    "precision, recall,threshold=precision_recall_curve(y_val,y_proba_gb[:,1]);\n",
    "\n",
    "print('Area under Precision-Recall curve:',np.round(auc(recall,precision),4))\n",
    "\n",
    "plot_confusion_matrix(model_gb,X_val,y_val,cmap='Blues');"
   ]
  },
  {
   "cell_type": "code",
   "execution_count": 66,
   "metadata": {},
   "outputs": [
    {
     "data": {
      "text/plain": [
       "array([1.38827469e-02, 1.25919330e-02, 6.95998385e-02, 4.20994468e-01,\n",
       "       3.94564096e-01, 5.03197207e-03, 1.80528149e-03, 1.67440914e-04,\n",
       "       7.64963863e-04, 0.00000000e+00, 0.00000000e+00, 6.93475571e-04,\n",
       "       1.45598523e-03, 3.44798029e-04, 0.00000000e+00, 0.00000000e+00,\n",
       "       1.64405332e-04, 0.00000000e+00, 2.24145455e-03, 1.06612851e-04,\n",
       "       0.00000000e+00, 3.33561736e-03, 6.99861237e-04, 1.37330373e-04,\n",
       "       5.55004644e-03, 7.76846234e-03, 3.07954623e-02, 2.44207741e-02,\n",
       "       1.68485133e-03, 1.32635741e-04, 1.06548663e-03])"
      ]
     },
     "execution_count": 66,
     "metadata": {},
     "output_type": "execute_result"
    }
   ],
   "source": [
    "importances = model_gb.feature_importances_\n",
    "importances"
   ]
  },
  {
   "cell_type": "code",
   "execution_count": 67,
   "metadata": {},
   "outputs": [
    {
     "data": {
      "image/png": "[encoded data removed]",
      "text/plain": [
       "<Figure size 1440x360 with 1 Axes>"
      ]
     },
     "metadata": {
      "needs_background": "light"
     },
     "output_type": "display_data"
    }
   ],
   "source": [
    "\n",
    "index = np.argsort(importances)[::-1]\n",
    "names = X_train_os.columns[index]\n",
    "\n",
    "# Creamos el plot\n",
    "plt.figure(figsize=(20,5))\n",
    "\n",
    "# Creamos plot title\n",
    "plt.title(\"Feature Importance\")\n",
    "\n",
    "# Agregamos las barras\n",
    "plt.bar(range(X_train_os.shape[1]), importances[index])\n",
    "\n",
    "# Agregamos los feature names \n",
    "plt.xticks(range(X_train_os.shape[1]), names, rotation=90)\n",
    "\n",
    "# Show plot\n",
    "plt.show()"
   ]
  },
  {
   "cell_type": "markdown",
   "metadata": {},
   "source": [
    "As we could see, with our lastest model we obtained a worse F1 and Precision Score, but we really improved the Recall Score, which represents the percentaje of interested users that our model was able to correctly identify.\n",
    "\n",
    "So, I decided to choose Gradient Boost Classifier without Grid Search, because I am willing to accept a larger error in the prediction of class 0, if I can find more accuracy in the prediction of enrolled users."
   ]
  },
  {
   "cell_type": "markdown",
   "metadata": {},
   "source": [
    "## 📌Predicting new values"
   ]
  },
  {
   "cell_type": "code",
   "execution_count": null,
   "metadata": {},
   "outputs": [],
   "source": [
    "X_test.head(2)"
   ]
  },
  {
   "cell_type": "code",
   "execution_count": null,
   "metadata": {},
   "outputs": [],
   "source": [
    "X_test_final = X_test.drop(columns='pdays')\n",
    "X_test_final['month']=X_test_final.month.map(lambda x: monthToNum(x))"
   ]
  },
  {
   "cell_type": "code",
   "execution_count": null,
   "metadata": {},
   "outputs": [],
   "source": [
    "X_test_dummies = pd.get_dummies(X_test_final, drop_first=True)\n",
    "X_test_dummies.columns"
   ]
  },
  {
   "cell_type": "code",
   "execution_count": null,
   "metadata": {},
   "outputs": [],
   "source": [
    "X_train.columns"
   ]
  },
  {
   "cell_type": "code",
   "execution_count": null,
   "metadata": {},
   "outputs": [],
   "source": [
    "y_test_pred=model_gb.predict(X_test_dummies)"
   ]
  },
  {
   "cell_type": "code",
   "execution_count": null,
   "metadata": {},
   "outputs": [],
   "source": [
    "predictions = pd.DataFrame(y_test_pred)\n",
    "predictions.columns = ['Y_Pred']\n",
    "predictions.to_csv('predictions_delivery.csv', index=False)"
   ]
  },
  {
   "cell_type": "markdown",
   "metadata": {},
   "source": [
    "<img src='https://www.observatoriorh.com/wp-content/uploads/2017/05/Thank-you-ok.jpg'>"
   ]
  }
 ],
 "metadata": {
  "kernelspec": {
   "display_name": "Python 3",
   "language": "python",
   "name": "python3"
  },
  "language_info": {
   "codemirror_mode": {
    "name": "ipython",
    "version": 3
   },
   "file_extension": ".py",
   "mimetype": "text/x-python",
   "name": "python",
   "nbconvert_exporter": "python",
   "pygments_lexer": "ipython3",
   "version": "3.7.9"
  }
 },
 "nbformat": 4,
 "nbformat_minor": 4
}
